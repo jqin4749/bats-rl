{
 "cells": [
  {
   "cell_type": "markdown",
   "metadata": {},
   "source": [
    "## Notebook for loading trained checkpoints and testing"
   ]
  },
  {
   "cell_type": "code",
   "execution_count": null,
   "metadata": {},
   "outputs": [],
   "source": [
    "import sys, os\n",
    "sys.path.insert(1,os.getcwd())\n",
    "sys.path.insert(1,'../bats-box')\n",
    "sys.path.insert(1,'.')\n",
    "import numpy as np\n",
    "import utils as ut\n",
    "import batscode as bats\n",
    "import matplotlib.pyplot as plt\n",
    "import rl.models as md\n",
    "import rl.trainer as trainer\n",
    "import torch\n",
    "import torch.nn as nn\n",
    "import numpy as np"
   ]
  },
  {
   "cell_type": "code",
   "execution_count": null,
   "metadata": {},
   "outputs": [],
   "source": [
    "n_pkt = 64\n",
    "n_batch = 12\n",
    "pk_size = 256\n",
    "batch_size = 8\n",
    "state_size = 128\n",
    "\n",
    "agent = md.DDPG(n_pkt, n_batch, pk_size, batch_size, num_hops=10,loss_rate=0.1, state_size=state_size, mode = 'cnn',replay_buffer_size=10000, parallel=True)"
   ]
  },
  {
   "cell_type": "code",
   "execution_count": null,
   "metadata": {},
   "outputs": [],
   "source": [
    "# agent.num_hops_ = 10\n",
    "agent.load(name = '27-12-2021-22:27:01', dir_name='checkpoints/job-27-12-2021-21:22:30')\n",
    "# agent.load(name = '17-12-2021-17:19:59')"
   ]
  },
  {
   "cell_type": "code",
   "execution_count": null,
   "metadata": {},
   "outputs": [],
   "source": [
    "# agent.num_hops_ = 1\n",
    "reward_list, info_list, pke_list, dpkts = trainer.test_agent(agent,100, return_dpkt=True)"
   ]
  },
  {
   "cell_type": "code",
   "execution_count": null,
   "metadata": {},
   "outputs": [],
   "source": [
    "np.mean(info_list), np.mean(pke_list)"
   ]
  },
  {
   "cell_type": "code",
   "execution_count": null,
   "metadata": {},
   "outputs": [],
   "source": [
    "np.mean(info_list), np.mean(pke_list)"
   ]
  },
  {
   "cell_type": "code",
   "execution_count": null,
   "metadata": {},
   "outputs": [],
   "source": [
    "np.std(info_list), np.std(pke_list)"
   ]
  },
  {
   "cell_type": "code",
   "execution_count": null,
   "metadata": {},
   "outputs": [],
   "source": [
    "trainer.train_agent(agent,num_hops=20,loss_rate=0.1,max_episode=2,bs=16,perb=0.2)"
   ]
  },
  {
   "cell_type": "code",
   "execution_count": null,
   "metadata": {},
   "outputs": [],
   "source": [
    "reward_list, info_list, pke_list = trainer.test_agent(agent,20)"
   ]
  },
  {
   "cell_type": "code",
   "execution_count": null,
   "metadata": {},
   "outputs": [],
   "source": [
    "np.mean(reward_list), np.mean(info_list), np.mean(pke_list)"
   ]
  },
  {
   "cell_type": "code",
   "execution_count": null,
   "metadata": {},
   "outputs": [],
   "source": [
    "import matplotlib.pyplot as plt\n",
    "plt.plot(agent.actor_loss_list,label='actor_loss')\n",
    "plt.plot(agent.critic_judge_list,label='critic_judge_')\n",
    "\n",
    "# plt.plot(agent.guided_loss_list,label='guided_loss')\n",
    "plt.legend()\n",
    "plt.title('Actor loss for training 250 epochs')\n",
    "plt.savefig('actor_loss2.jpg',dpi=400)"
   ]
  },
  {
   "cell_type": "code",
   "execution_count": null,
   "metadata": {},
   "outputs": [],
   "source": [
    "plt.plot(agent.critic_loss_list,label='critic loss')\n",
    "plt.legend()\n",
    "plt.title('Critic loss for training 250 epochs')\n",
    "plt.savefig('critic_loss2.jpg',dpi=400)\n"
   ]
  },
  {
   "cell_type": "code",
   "execution_count": null,
   "metadata": {},
   "outputs": [],
   "source": []
  }
 ],
 "metadata": {
  "interpreter": {
   "hash": "916dbcbb3f70747c44a77c7bcd40155683ae19c65e1c03b4aa3499c5328201f1"
  },
  "kernelspec": {
   "display_name": "Python 3.8.10 64-bit",
   "language": "python",
   "name": "python3"
  },
  "language_info": {
   "codemirror_mode": {
    "name": "ipython",
    "version": 3
   },
   "file_extension": ".py",
   "mimetype": "text/x-python",
   "name": "python",
   "nbconvert_exporter": "python",
   "pygments_lexer": "ipython3",
   "version": "3.8.8"
  },
  "orig_nbformat": 4
 },
 "nbformat": 4,
 "nbformat_minor": 2
}
