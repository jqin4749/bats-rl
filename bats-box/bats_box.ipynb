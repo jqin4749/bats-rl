{
 "cells": [
  {
   "cell_type": "code",
   "execution_count": null,
   "metadata": {},
   "outputs": [],
   "source": [
    "import sys,os\n",
    "sys.path.insert(1,os.getcwd())\n",
    "import numpy as np\n",
    "import utils as ut\n",
    "from batscode import bats_box\n",
    "import matplotlib.pyplot as plt"
   ]
  },
  {
   "cell_type": "code",
   "execution_count": null,
   "metadata": {},
   "outputs": [],
   "source": [
    "bats = bats_box()\n",
    "ac_list = []\n",
    "tg_list = []\n",
    "graph_list = []\n",
    "dpkts = []\n",
    "runs = 1000\n",
    "for i in range(runs):\n",
    "    t1 = ut.gen_tanner_all_connected(n_pkt=64,n_batch=9,bsize=8,pk_size=256,silent=True,deg_dist='./K64M8.txt')\n",
    "    bats.update_graph(t1)\n",
    "    ac, tg, dpkt = bats.run_avg(num_hops=10,loss_rate=0.1,inactivation=True,silent=True,return_dpkt=True)\n",
    "    # (ac, tg, _), dpkt = bats.run(num_hops=10,loss_rate=0.1,inactivation=True,silent=True)\n",
    "    ac_list.append(ac/tg)\n",
    "    tg_list.append(bats.pkt_per_edge_)\n",
    "    graph_list.append(t1)\n",
    "    dpkts += dpkt\n",
    "    print('\\r%d/%d'%(i+1,runs),end='')\n",
    "print('\\n')\n",
    "print(np.mean(ac_list))\n",
    "print(np.mean(tg_list))\n",
    "print(np.std(ac_list))\n",
    "print(np.std(tg_list))"
   ]
  },
  {
   "cell_type": "code",
   "execution_count": null,
   "metadata": {},
   "outputs": [],
   "source": [
    "bats = bats_box()\n",
    "# t1 = ut.gen_tanner(n_pkt=64,n_batch=11,bsize=8,pk_size=256,silent=False,deg_dist='./K64M8.txt')\n",
    "t1 = ut.gen_tanner_all_connected(n_pkt=64,n_batch=12,bsize=8,pk_size=256,silent=False,deg_dist='./K64M8.txt')\n",
    "bats.update_graph(t1)\n",
    "t1.info()\n",
    "ac, tg, dpkt = bats.run_avg(num_hops=20,loss_rate=0.1,inactivation=True,silent=True,return_dpkt=True)\n",
    "print(ac/tg)\n",
    "print(bats.pkt_per_edge_)"
   ]
  },
  {
   "cell_type": "code",
   "execution_count": null,
   "metadata": {},
   "outputs": [],
   "source": [
    "# basic decoable graph\n",
    "def gen_basis_graph_from_model():\n",
    "    n_cns = 10\n",
    "    n_vns = 64\n",
    "    arr_to_return = np.zeros((n_cns,n_vns),dtype=int)\n",
    "    available_cns = list(np.arange(n_cns,dtype=int))\n",
    "    for i in range(n_vns):\n",
    "        if len(available_cns) == 0:\n",
    "            available_cns = list(np.arange(n_cns,dtype=int))\n",
    "        idx = np.random.choice(available_cns,1)[0]\n",
    "        available_cns.remove(idx)\n",
    "        arr_to_return[idx,i] = 1\n",
    "    return arr_to_return\n",
    "\n",
    "bats = bats_box()\n",
    "ac_list = []\n",
    "tg_list = []\n",
    "graph_list = []\n",
    "for i in range(100):\n",
    "    current_state_ = gen_basis_graph_from_model()\n",
    "    t1 = ut.gen_tanner_from_binary_graph(current_state_, 256, 8)\n",
    "    bats.update_graph(t1)\n",
    "    ac, tg = bats.run_avg(num_hops=20,loss_rate=0.1,inactivation=True,silent=True)\n",
    "    ac_list.append(ac/tg)\n",
    "    tg_list.append(bats.pkt_per_edge_)\n",
    "    graph_list.append(t1)\n",
    "    print('\\r%d/%d'%(i+1,100),end='')\n",
    "print('\\n')\n",
    "print(np.mean(ac_list))\n",
    "print(np.mean(tg_list))\n",
    "print(np.std(ac_list))\n",
    "print(np.std(tg_list))"
   ]
  },
  {
   "cell_type": "code",
   "execution_count": null,
   "metadata": {},
   "outputs": [],
   "source": [
    "# get rank distribution\n",
    "from scipy.io import savemat\n",
    "\n",
    "def drop(bsize,loss_rate):\n",
    "    idx = []\n",
    "    for i in range(bsize):\n",
    "        if np.random.rand() < loss_rate:\n",
    "            idx.append(i)\n",
    "    return idx\n",
    "def rank_test(num_hops, loss_rate, M):\n",
    "    b = ut.gf(np.random.randint(256,size=(256,M)))\n",
    "    while np.linalg.matrix_rank(b) != M:\n",
    "            b = ut.gf(np.random.randint(256,size=(256,M)))\n",
    "    for _ in range(num_hops):\n",
    "        h = ut.gf(np.random.randint(256,size=(M,M)))\n",
    "        while np.linalg.matrix_rank(h) != M:\n",
    "            h = ut.gf(np.random.randint(256,size=(M,M)))\n",
    "        drop_idx = drop(M,loss_rate)\n",
    "        keep_index = [i for i in range(M) if i not in drop_idx]\n",
    "        if len(keep_index) == 0:\n",
    "            return 0\n",
    "        b = np.matmul(b[:,keep_index], h[keep_index,:])\n",
    "    return np.linalg.matrix_rank(b)\n",
    "\n",
    "def get_rank_dist(num_hops, loss_rate, M):\n",
    "    num_tests = int(1e4)\n",
    "    dist = np.zeros(M+1)\n",
    "    for i in range(num_tests):\n",
    "        print('\\r%d/%d'%(i+1,num_tests),end='')\n",
    "        dist[int(rank_test(num_hops, loss_rate, M))] += 1\n",
    "    dist = dist / num_tests\n",
    "    return dist\n"
   ]
  },
  {
   "cell_type": "code",
   "execution_count": null,
   "metadata": {},
   "outputs": [],
   "source": [
    "num_hops = 10\n",
    "loss_rate = 0.1\n",
    "M = 8\n",
    "dist = get_rank_dist(num_hops,loss_rate, M)"
   ]
  },
  {
   "cell_type": "code",
   "execution_count": null,
   "metadata": {},
   "outputs": [],
   "source": [
    "matfile = {\n",
    "    'h': dist\n",
    "}\n",
    "savemat('rank_dist_M%d.mat'%M, matfile)"
   ]
  },
  {
   "cell_type": "code",
   "execution_count": null,
   "metadata": {},
   "outputs": [],
   "source": [
    "dist"
   ]
  }
 ],
 "metadata": {
  "interpreter": {
   "hash": "e7f8939945c72c4340bd253b9f9de0abf83266ccbd7fb1249cfbac6d1c15d6d9"
  },
  "kernelspec": {
   "display_name": "Python 3.8.8 64-bit ('base': conda)",
   "name": "python3"
  },
  "language_info": {
   "codemirror_mode": {
    "name": "ipython",
    "version": 3
   },
   "file_extension": ".py",
   "mimetype": "text/x-python",
   "name": "python",
   "nbconvert_exporter": "python",
   "pygments_lexer": "ipython3",
   "version": "3.8.8"
  },
  "orig_nbformat": 4
 },
 "nbformat": 4,
 "nbformat_minor": 2
}
